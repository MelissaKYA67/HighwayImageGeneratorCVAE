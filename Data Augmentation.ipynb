{
 "cells": [
  {
   "cell_type": "code",
   "execution_count": 1,
   "metadata": {},
   "outputs": [],
   "source": [
    "from PIL import Image, ImageEnhance\n",
    "import albumentations as A\n",
    "import numpy as np\n",
    "from torchvision import transforms\n",
    "from matplotlib import pyplot as plt\n",
    "import cv2\n",
    "import os\n",
    "import shutil"
   ]
  },
  {
   "cell_type": "code",
   "execution_count": 96,
   "metadata": {},
   "outputs": [],
   "source": [
    "source = 'D:/Dataset/train_reduced/middle_right2'\n",
    "real_source = 'D:/Dataset/train_reduced/middle_right2'\n",
    "images = os.listdir(source)"
   ]
  },
  {
   "cell_type": "code",
   "execution_count": 97,
   "metadata": {},
   "outputs": [],
   "source": [
    "for image_name in images:\n",
    "    im = Image.open(source + \"/\" + image_name)\n",
    "    enhancer1 = ImageEnhance.Sharpness(im)\n",
    "    im = enhancer1.enhance(1)\n",
    "    enhancer2 = ImageEnhance.Contrast(im)\n",
    "    im = enhancer2.enhance(3)\n",
    "    im.save(real_source + \"/\" + image_name)"
   ]
  },
  {
   "cell_type": "code",
   "execution_count": 80,
   "metadata": {},
   "outputs": [],
   "source": [
    "for image_name in images:\n",
    "    im = Image.open(source + \"/\" + image_name)\n",
    "    im = im.transpose(Image.FLIP_LEFT_RIGHT)\n",
    "    im.save(real_source + \"/f\" + image_name)"
   ]
  },
  {
   "cell_type": "code",
   "execution_count": 52,
   "metadata": {},
   "outputs": [],
   "source": [
    "duplicate_times = 2\n",
    "for loop in range(duplicate_times):\n",
    "    for image_name in images:\n",
    "        im = Image.open(source + \"/\" + image_name)\n",
    "        enhancer1 = ImageEnhance.Sharpness(im)\n",
    "        im = enhancer1.enhance(1)\n",
    "        enhancer2 = ImageEnhance.Contrast(im)\n",
    "        im = enhancer2.enhance(3)\n",
    "        im.save(real_source + \"/\" + str(loop) + image_name)"
   ]
  }
 ],
 "metadata": {
  "kernelspec": {
   "display_name": "Python 3",
   "language": "python",
   "name": "python3"
  },
  "language_info": {
   "codemirror_mode": {
    "name": "ipython",
    "version": 3
   },
   "file_extension": ".py",
   "mimetype": "text/x-python",
   "name": "python",
   "nbconvert_exporter": "python",
   "pygments_lexer": "ipython3",
   "version": "3.8.2"
  }
 },
 "nbformat": 4,
 "nbformat_minor": 4
}
